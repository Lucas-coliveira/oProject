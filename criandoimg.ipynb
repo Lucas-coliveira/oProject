{
 "cells": [
  {
   "cell_type": "code",
   "execution_count": 45,
   "id": "531cde7c",
   "metadata": {},
   "outputs": [],
   "source": [
    "from PIL import Image\n",
    "imagem = Image.open(\"imteste.jpg\")\n"
   ]
  },
  {
   "cell_type": "code",
   "execution_count": 22,
   "id": "409768cb",
   "metadata": {},
   "outputs": [
    {
     "name": "stdout",
     "output_type": "stream",
     "text": [
      "(1, 93, 178)\n"
     ]
    }
   ],
   "source": [
    "print(imagem.getpixel((300,80)))"
   ]
  },
  {
   "cell_type": "code",
   "execution_count": 55,
   "id": "c183a260",
   "metadata": {
    "scrolled": true
   },
   "outputs": [],
   "source": [
    "f = Image.new(\"RGB\", (350,350), (100,39,155))\n",
    "f.show()"
   ]
  },
  {
   "cell_type": "code",
   "execution_count": 61,
   "id": "7d8ade9a",
   "metadata": {},
   "outputs": [],
   "source": [
    "\"\"\"criando um triangulo\"\"\"\n",
    "def triangle(size):\n",
    "    WHITE = (255,255,255)\n",
    "    BLACK = (0,0,0)\n",
    "    foto = Image.new(\"RGB\", (size,size), WHITE)\n",
    "    \n",
    "    for x in range(size):\n",
    "        for y in range(size):\n",
    "            if x < y:\n",
    "                foto.putpixel((x,y), BLACK)\n",
    "    return foto\n",
    "\n",
    "if __name__ == \"__main__\":\n",
    "    t=triangle (500)\n",
    "    t.show()\n",
    "    \n",
    " "
   ]
  },
  {
   "cell_type": "code",
   "execution_count": 67,
   "id": "79dd4f42",
   "metadata": {},
   "outputs": [],
   "source": [
    "def bandeira_franca(altura):\n",
    "    width = 3*altura//2\n",
    "    blue = (0,85,164)\n",
    "    white = (255,255,255)\n",
    "    red = (239,65,53)\n",
    "    franca = Image.new(\"RGB\",(width, altura), white)\n",
    "    \n",
    "    offset = width//3\n",
    "    for x in range(offset):\n",
    "        for y in range(altura):\n",
    "            franca.putpixel((x,y), blue)\n",
    "            franca.putpixel((x+2*offset, y), red)\n",
    "    return franca\n",
    "if __name__ == \"__main__\":\n",
    "    fca = bandeira_franca(300)\n",
    "    fca.show()\n",
    "\n",
    "    "
   ]
  },
  {
   "cell_type": "code",
   "execution_count": 72,
   "id": "c6ad9f8a",
   "metadata": {},
   "outputs": [],
   "source": [
    "def bandeira_japao(altura):\n",
    "    largura = 3*altura//2\n",
    "    branco = (255,255,255)\n",
    "    red = (173,35,51)\n",
    "   \n",
    "    \n",
    "    r = 3*altura//10\n",
    "    c = (largura//2, altura//2)\n",
    "    japa = Image.new(\"RGB\", (largura, altura), branco)\n",
    "    \n",
    "    for x in range(c[0]-r, c[0]+r):\n",
    "        for y in range(c[1]-r, c[1]+r):\n",
    "            if (x-c[0])**2 + (y-c[1])**2 <= r**2:\n",
    "                japa.putpixel((x, y), red)\n",
    "    return japa\n",
    "if __name__ == \"__main__\":\n",
    "    japao = bandeira_japao(500)\n",
    "    japao.show()\n",
    "\n",
    "                \n",
    "            \n",
    "        \n",
    "    \n",
    "    \n",
    "    \n",
    "    \n",
    "    \n",
    "\n"
   ]
  }
 ],
 "metadata": {
  "kernelspec": {
   "display_name": "Python 3 (ipykernel)",
   "language": "python",
   "name": "python3"
  },
  "language_info": {
   "codemirror_mode": {
    "name": "ipython",
    "version": 3
   },
   "file_extension": ".py",
   "mimetype": "text/x-python",
   "name": "python",
   "nbconvert_exporter": "python",
   "pygments_lexer": "ipython3",
   "version": "3.9.2"
  }
 },
 "nbformat": 4,
 "nbformat_minor": 5
}
